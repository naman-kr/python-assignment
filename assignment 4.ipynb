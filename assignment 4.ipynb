{
 "cells": [
  {
   "cell_type": "markdown",
   "metadata": {},
   "source": [
    "#### 1.1 Write a Python Program(with class concepts) to find the area of the triangle using the below\n",
    "#### formula.\n",
    "#### area = (s*(s-a)*(s-b)*(s-c)) ** 0.5\n",
    "#### Function to take the length of the sides of triangle from user should be defined in the parent\n",
    "#### class and function to calculate the area should be defined in subclass."
   ]
  },
  {
   "cell_type": "code",
   "execution_count": 1,
   "metadata": {},
   "outputs": [
    {
     "name": "stdout",
     "output_type": "stream",
     "text": [
      "a=12\n",
      "b=45\n",
      "c=36\n",
      "area : 158.95577215062056\n"
     ]
    }
   ],
   "source": [
    "\n",
    "class parameter:\n",
    "\n",
    "    def __init__(self,a,b,c):\n",
    "        \n",
    "        self.a=float(a)\n",
    "        self.b=float(b)\n",
    "        self.c=float(c)\n",
    "a=int(input(\"a=\"))\n",
    "b=int(input(\"b=\"))\n",
    "c=int(input(\"c=\"))\n",
    "        \n",
    "class triangle(parameter):\n",
    "    def get_area(self):\n",
    "        s = (a + b + c) / 2\n",
    "        return ((s*(s-a)*(s-b)*(s-c)) ** 0.5)\n",
    "\n",
    "    \n",
    "    \n",
    "t = triangle(a,b,c)\n",
    "print(\"area : {}\".format(t.get_area()))"
   ]
  },
  {
   "cell_type": "markdown",
   "metadata": {},
   "source": [
    "### 1.2 Write a function filter_long_words() that takes a list of words and an integer n and returns the list of words that are longer than n."
   ]
  },
  {
   "cell_type": "code",
   "execution_count": 3,
   "metadata": {},
   "outputs": [
    {
     "name": "stdout",
     "output_type": "stream",
     "text": [
      "entre a words with space  saperator:nkjnecon kjwcnkjwdcn jnc jdncjn nj\n",
      "entre the number:3\n"
     ]
    },
    {
     "data": {
      "text/plain": [
       "['nkjnecon', 'kjwcnkjwdcn', 'jdncjn']"
      ]
     },
     "execution_count": 3,
     "metadata": {},
     "output_type": "execute_result"
    }
   ],
   "source": [
    "\n",
    "def filter_long_word(string,n):\n",
    "    wrd_lst=[]\n",
    "    txt= string.split(\" \")\n",
    "    for x in txt:\n",
    "        if len(x)>n:\n",
    "            wrd_lst.append(x)\n",
    "    return wrd_lst\n",
    "\n",
    "s=str(input(\"entre a words with space  saperator:\"))\n",
    "n=int(input(\"entre the number:\"))\n",
    "\n",
    "filter_long_word(s,n)\n",
    "    \n",
    "    \n",
    "    \n",
    "    "
   ]
  },
  {
   "cell_type": "markdown",
   "metadata": {},
   "source": [
    "### 2.1 Write a Python program using function concept that maps list of words into a list of integers representing the lengths of the corresponding words."
   ]
  },
  {
   "cell_type": "code",
   "execution_count": 5,
   "metadata": {},
   "outputs": [
    {
     "name": "stdout",
     "output_type": "stream",
     "text": [
      "entre the words with space saperator:naman kumar ljhui hhjy khuyg\n"
     ]
    },
    {
     "data": {
      "text/plain": [
       "[5, 5, 5, 4, 5]"
      ]
     },
     "execution_count": 5,
     "metadata": {},
     "output_type": "execute_result"
    }
   ],
   "source": [
    "def len_of_lstwrd(s):\n",
    "    wrd_lst=[]\n",
    "    lst_len=[]\n",
    "    txt=s.split(\" \")\n",
    "    for x in txt:\n",
    "        wrd_lst.append(x)\n",
    "        \n",
    "    for x in wrd_lst:\n",
    "        lst_len.append(len(x))\n",
    "        \n",
    "    return lst_len\n",
    "\n",
    "s=str(input(\"entre the words with space saperator:\"))\n",
    "len_of_lstwrd(s)"
   ]
  },
  {
   "cell_type": "markdown",
   "metadata": {},
   "source": [
    "### 2.2 Write a Python function which takes a character (i.e. a string of length 1) and returns True if it is a vowel, False otherwise."
   ]
  },
  {
   "cell_type": "code",
   "execution_count": 25,
   "metadata": {},
   "outputs": [],
   "source": [
    "def vowel_identifier(s):\n",
    "    if s=='a' or 'e' or 'i' or 'o' or 'u' or 'A' or 'E' or 'I' or 'O' or 'U':\n",
    "        return True\n",
    "    else:\n",
    "        return False"
   ]
  },
  {
   "cell_type": "code",
   "execution_count": 27,
   "metadata": {},
   "outputs": [
    {
     "data": {
      "text/plain": [
       "True"
      ]
     },
     "execution_count": 27,
     "metadata": {},
     "output_type": "execute_result"
    }
   ],
   "source": [
    "\n",
    "vowel_identifier(\"e\")"
   ]
  },
  {
   "cell_type": "code",
   "execution_count": null,
   "metadata": {},
   "outputs": [],
   "source": []
  },
  {
   "cell_type": "code",
   "execution_count": null,
   "metadata": {},
   "outputs": [],
   "source": []
  }
 ],
 "metadata": {
  "kernelspec": {
   "display_name": "Python 3",
   "language": "python",
   "name": "python3"
  }
 },
 "nbformat": 4,
 "nbformat_minor": 2
}
